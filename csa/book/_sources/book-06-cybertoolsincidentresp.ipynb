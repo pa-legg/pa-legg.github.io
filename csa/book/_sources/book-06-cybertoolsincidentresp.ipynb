{
 "cells": [
  {
   "cell_type": "markdown",
   "metadata": {},
   "source": [
    "# 06 CYBER SECURITY ANALYTICS TOOLS - INCIDENT RESPONSE \n",
    "\n",
    "The 4 core questions to security monitoring and incident response.\n",
    "\n",
    "- What are we trying to protect?\n",
    "- What are the threats?\n",
    "- How do we detect them?\n",
    "- How do we respond?\n",
    "\n",
    "**If you don't know what you are trying to protect, how can you expect to defend it?**\n",
    "\n",
    "**There will always be place for incident prevention and not all threats can possibly be blocked. We are seeking a pragmatic approach to detection and response.**\n",
    "\n",
    "**Identify what assets are most critical, and then build layers of defence from there**\n",
    "\n",
    "## MITRE Cyber Analytics Repository (CAR)\n",
    "\n",
    "The [MITRE Cyber Analytics Repository (CAR)](https://car.mitre.org/) is a knowledge base of analytics developed by MITRE based on the MITRE ATT&CK adversary model. CAR defines a data model that is leveraged in its pseudocode representations, but also includes implementations directly targeted at specific tools (e.g., Splunk, EQL) in its analytics. With respect to coverage, CAR is focused on providing a set of validated and well-explained analytics, in particular with regards to their operating theory and rationale.\n",
    "\n",
    "\n",
    "- Infrastructure, Intellectual property, customer and employee data, brand reputation."
   ]
  },
  {
   "cell_type": "markdown",
   "metadata": {},
   "source": [
    "## OS Credential Dumping: LSASS Memory\n",
    "\n",
    "[OS Credential Dumping: LSASS Memory](https://attack.mitre.org/techniques/T1003/001/): Adversaries may attempt to access credential material stored in the process memory of the Local Security Authority Subsystem Service (LSASS). After a user logs on, the system generates and stores a variety of credential materials in LSASS process memory. These credential materials can be harvested by an administrative user or SYSTEM and used to conduct Lateral Movement using Use Alternate Authentication Material. As well as in-memory techniques, the LSASS process memory can be dumped from the target host and analyzed on a local system."
   ]
  },
  {
   "cell_type": "markdown",
   "metadata": {},
   "source": [
    "RedCanary [report LSASS memory](https://redcanary.com/threat-detection-report/techniques/lsass-memory/) as 15.5% organizations affected and 1,447 confirmed threats."
   ]
  },
  {
   "cell_type": "markdown",
   "metadata": {},
   "source": [
    "## Structured Threat Information eXpression (STIX™)\n",
    "\n",
    "[Structured Threat Information eXpression (STIX™)](https://oasis-open.github.io/cti-documentation/) is a language and serialization format used to exchange cyber threat intelligence (CTI). STIX enables organizations to share CTI with one another in a consistent and machine readable manner, allowing security communities to better understand what computer-based attacks they are most likely to see and to anticipate and/or respond to those attacks faster and more effectively. STIX is designed to improve many different capabilities, such as collaborative threat analysis, automated threat exchange, automated detection and response, and more."
   ]
  },
  {
   "cell_type": "markdown",
   "metadata": {},
   "source": [
    "## Trusted Automated Exchange of Intelligence Information (TAXII™)\n",
    "\n",
    "[Trusted Automated Exchange of Intelligence Information (TAXII™)](https://oasis-open.github.io/cti-documentation/) is an application layer protocol for the communication of cyber threat information in a simple and scalable manner. TAXII is a protocol used to exchange cyber threat intelligence (CTI) over HTTPS. TAXII enables organizations to share CTI by defining an API that aligns with common sharing models.\n",
    "TAXII is specifically designed to support the exchange of CTI represented in STIX."
   ]
  },
  {
   "cell_type": "markdown",
   "metadata": {},
   "source": [
    "## CyBOK Knowledge Area: Security Operations & Incident Management \n",
    "\n",
    "[Security Operations & Incident Management](https://www.cybok.org/media/downloads/Security_Operations_Incident_Management_v1.0.2.pdf)"
   ]
  },
  {
   "cell_type": "code",
   "execution_count": null,
   "metadata": {},
   "outputs": [],
   "source": []
  }
 ],
 "metadata": {
  "kernelspec": {
   "display_name": "Python 3 (ipykernel)",
   "language": "python",
   "name": "python3"
  },
  "language_info": {
   "codemirror_mode": {
    "name": "ipython",
    "version": 3
   },
   "file_extension": ".py",
   "mimetype": "text/x-python",
   "name": "python",
   "nbconvert_exporter": "python",
   "pygments_lexer": "ipython3",
   "version": "3.9.12"
  },
  "widgets": {
   "application/vnd.jupyter.widget-state+json": {
    "state": {},
    "version_major": 2,
    "version_minor": 0
   }
  }
 },
 "nbformat": 4,
 "nbformat_minor": 4
}
