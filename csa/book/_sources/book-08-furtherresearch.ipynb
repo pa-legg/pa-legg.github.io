{
 "cells": [
  {
   "cell_type": "markdown",
   "metadata": {
    "jp-MarkdownHeadingCollapsed": true,
    "tags": []
   },
   "source": [
    "# 08 FURTHER RESEARCH DIRECTIONS\n",
    "\n",
    "We have covered a lot of ground through this course, from the initial ideas around cyber security analytics, through to managing workflows, machine learning and visualisation, and different applications of analysis that may be required. Of course, future research will continue to evolve and we will see greater uses of data analytics to understand the world around us and how best to secure this.\n",
    "\n",
    "A Cyber Security Analyst’s job is to protect an organisation from cyber threats. They develop protocols that are used to respond to and mitigate the effects of cyber attacks. They protect the organisation’s infrastructure such as computer networks, hardware, and software from cyber criminals. Tools – what tools are being used by cyber security analysts?\n",
    "Evaluation and reporting – how is this done?\n",
    "\n",
    "Scripting and programming, data management, penetration testing, hacking and countermeasures, and more will all be critical elements of your cybersecurity education.\n",
    "\n",
    "\n",
    "## Visualisation for Cyber Security\n",
    "\n",
    "The IEEE VizSec conference started in 2004 as the Workshop on Visualization and Data Mining for Computer Security, as a co-located event as part of the IEEE Vis conference – one of the largest International conferences on the topic of data visualisation.\n",
    "\n",
    "For this session, we will visit some of the recent literature that has been published at the IEEE VizSec conference. We will typically review a set of papers that have been published, and discuss the strengths and weaknesses of the papers, identifying key topic areas being addressed within cyber security, and how visualisation is proposed to alleviate the security challenges. Whilst the conference name has evolved, the actual principle of the conference remains akin to the original name – much of the challenge is in how we mine appropriate data as well as how with they visualise and explore this data. This echoes earlier discussions around the interplay of machine learning and human interaction that we have highlighted in previous sections, but here we can observe the research perspectives of this in cyber security research applications designed to contribute towards our understanding of how visualisation can benefit in cyber security analysis. \n",
    "\n",
    "\n"
   ]
  },
  {
   "cell_type": "markdown",
   "metadata": {},
   "source": [
    "# Further reading:\n",
    "  \n",
    "- [Infosec Jupyterthon!](https://infosecjupyterthon.com/introduction.html)\n",
    "- [Set up static IP in Kali](https://www.wikigain.com/set-up-a-static-ip-in-kali-linux.)\n",
    "- [How to Become a Cybersecurity Analyst](https://www.wgu.edu/career-guide/information-technology/cybersecurity-analyst-career.html)\n",
    "- [Becoming a Microsoft Sentinel Notebooks Ninja - The Series!](https://techcommunity.microsoft.com/t5/microsoft-sentinel-blog/becoming-a-microsoft-sentinel-notebooks-ninja-the-series/ba-p/2693491?WT.mc_id=m365-0000-rotrent)\n",
    "- [SANS SEC595: Applied Data Science and AI/Machine Learning for Cybersecurity Professionals](https://www.sans.org/cyber-security-courses/applied-data-science-machine-learning/)\n",
    "- [Certificate Program in Cyber Security Analytics](https://360digitmg.com/course/certification-program-in-cyber-security-analytics/#:~:text=%20Cyber%20Security%20Analytics%20Course%20Modules%20%201,Deep%20Learning%20in%20Cyber%20Security.%20%20More%20)\n",
    "- [Advanced Cyber Security Analytics](https://casugol.com/acsa/)\n",
    "- [ONLINE CYBERSECURITY MASTER’S DEGREE — CYBERSECURITY ANALYTICS](https://onlinecybersecurity.seas.gwu.edu/me-cybersecurity-analytics/)\n",
    "- [BIG DATA ANALYTICS FOR CYBER SECURITY](https://education.dellemc.com/content/dam/dell-emc/documents/en-us/2015KS_Krishnappa-Big_Data_Analytics_for_Cyber_Security.pdf)\n",
    "- [Get-EventLog: Querying Windows Event Logs with PowerShell](https://adamtheautomator.com/get-eventlog/)\n",
    "- [Threat Hunting with Jupyter Notebooks— Part 1: Your First Notebook](https://posts.specterops.io/threat-hunting-with-jupyter-notebooks-part-1-your-first-notebook-9a99a781fde7)\n",
    "- [Jupyter Notebooks for Incident Response](https://www.netscylla.com/blog/2019/10/28/Jupyter-Notebooks-for-Incident-Response.html)\n",
    "- [What do Jupyter Notebooks bring to cybersecurity?](https://www.cytomic.ai/trends/jupyter-notebooks-cybersecurity/)\n",
    "- [How Data Science Has Changed Cybersecurity](https://online.datasciencedojo.com/blogs/how-data-science-has-changed-cybersecurity)\n",
    "- [101 Machine Learning Algorithms for Data Science with Cheat Sheets](https://online.datasciencedojo.com/blogs/101-machine-learning-algorithms-for-data-science-with-cheat-sheets)\n",
    "- [Cyber Threat Intelligence Tools For Security Professionals – 2021](https://www.socinvestigation.com/cyber-threat-intelligence-tools-for-security-professionals-2021/)"
   ]
  },
  {
   "cell_type": "code",
   "execution_count": null,
   "metadata": {},
   "outputs": [],
   "source": []
  }
 ],
 "metadata": {
  "kernelspec": {
   "display_name": "Python 3 (ipykernel)",
   "language": "python",
   "name": "python3"
  },
  "language_info": {
   "codemirror_mode": {
    "name": "ipython",
    "version": 3
   },
   "file_extension": ".py",
   "mimetype": "text/x-python",
   "name": "python",
   "nbconvert_exporter": "python",
   "pygments_lexer": "ipython3",
   "version": "3.9.12"
  },
  "widgets": {
   "application/vnd.jupyter.widget-state+json": {
    "state": {},
    "version_major": 2,
    "version_minor": 0
   }
  }
 },
 "nbformat": 4,
 "nbformat_minor": 4
}
