{
 "cells": [
  {
   "cell_type": "markdown",
   "metadata": {
    "tags": []
   },
   "source": [
    "# CYBER SECURITY ANALYTICS\n",
    "\n",
    "This is the companion textbook for the Cyber Security Analytics module, taught by [Prof. Phil Legg](http://plegg.me.uk) at the [University of the West of England (UWE Bristol), UK](http://www.uwe.ac.uk). This book was first prepared in Autumn 2021. Prof. Legg also teaches [Security Data Analytics and Visualisation](http://www.cems.uwe.ac.uk/~pa-legg/sdav/) which is designed for an undergraduate audience.\n",
    "\n",
    "Please note: This copy of the CSA notes is still under development - therefore some aspects may not be fully functional or complete. If you do have queries, or if you like the content and wish to comment, please do get in touch.\n"
   ]
  },
  {
   "cell_type": "code",
   "execution_count": null,
   "metadata": {},
   "outputs": [],
   "source": []
  }
 ],
 "metadata": {
  "kernelspec": {
   "display_name": "Python 3 (ipykernel)",
   "language": "python",
   "name": "python3"
  },
  "language_info": {
   "codemirror_mode": {
    "name": "ipython",
    "version": 3
   },
   "file_extension": ".py",
   "mimetype": "text/x-python",
   "name": "python",
   "nbconvert_exporter": "python",
   "pygments_lexer": "ipython3",
   "version": "3.9.12"
  },
  "widgets": {
   "application/vnd.jupyter.widget-state+json": {
    "state": {},
    "version_major": 2,
    "version_minor": 0
   }
  }
 },
 "nbformat": 4,
 "nbformat_minor": 4
}
